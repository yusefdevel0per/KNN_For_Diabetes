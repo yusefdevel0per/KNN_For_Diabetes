{
 "cells": [
  {
   "cell_type": "markdown",
   "id": "5703380c-1cad-4acd-99cc-1882e636b7c0",
   "metadata": {},
   "source": [
    "# yousef mohamed ibrahim - 223106299\n"
   ]
  },
  {
   "cell_type": "markdown",
   "id": "8b950506-a6d6-4aa2-b3c6-fc9144fc0c21",
   "metadata": {},
   "source": [
    "# Import Packages"
   ]
  },
  {
   "cell_type": "code",
   "execution_count": null,
   "id": "d5fef7db-b22f-4ffd-9d04-1c9433bb88e6",
   "metadata": {},
   "outputs": [],
   "source": [
    "import numpy as np\n",
    "import pandas as pd\n",
    "import matplotlib.pyplot as plt\n",
    "import seaborn as sns\n",
    "%matplotlib inline\n",
    "from sklearn.preprocessing import StandardScaler\n",
    "from sklearn.model_selection import train_test_split\n",
    "sns.set_style('whitegrid')\n",
    "from sklearn.neighbors import KNeighborsClassifier\n",
    "import warnings\n",
    "from sklearn.datasets import make_moons\n",
    "warnings.filterwarnings('ignore')\n",
    "from sklearn.metrics import accuracy_score\n"
   ]
  },
  {
   "cell_type": "markdown",
   "id": "ba5222bc-c5cb-4df1-982b-7afbc4829761",
   "metadata": {},
   "source": [
    "# Show and Plot Data"
   ]
  },
  {
   "cell_type": "code",
   "execution_count": null,
   "id": "4c106c4b-7625-43ea-bd06-26cf15731c23",
   "metadata": {},
   "outputs": [],
   "source": [
    "diabetes_data = pd.read_csv('diabetes.csv')\n",
    "diabetes_data.head()"
   ]
  },
  {
   "cell_type": "markdown",
   "id": "e6c4f0f1-b657-409a-b051-6759474a7e66",
   "metadata": {},
   "source": [
    "# Clean Data\n",
    "First we need to check for the null values"
   ]
  },
  {
   "cell_type": "code",
   "execution_count": null,
   "id": "ab11f0d3-d847-4eae-a662-b75b65221b1c",
   "metadata": {},
   "outputs": [],
   "source": [
    "nan_count = diabetes_data.isnull().sum().sum()\n",
    "print('Number of NaN values:', nan_count)"
   ]
  },
  {
   "cell_type": "markdown",
   "id": "2e949a65-6bbd-47bc-8c7a-0a6da0763897",
   "metadata": {},
   "source": [
    "**We dont have null values but there is mislabeled values which is 0 ,<br> we cannot have 0 for this features, \n",
    "we will replace it to NaN to easy process it.**"
   ]
  },
  {
   "cell_type": "code",
   "execution_count": null,
   "id": "6fbe5318-4471-4a6e-9cdc-4835317edd39",
   "metadata": {},
   "outputs": [],
   "source": [
    "diabetes_data[['Glucose','BloodPressure','SkinThickness','Insulin','BMI']] = diabetes_data[['Glucose','BloodPressure','SkinThickness','Insulin','BMI']].replace(0,np.NaN)"
   ]
  },
  {
   "cell_type": "code",
   "execution_count": null,
   "id": "e2e9041c-9f61-4925-85b2-af55db14d852",
   "metadata": {},
   "outputs": [],
   "source": [
    "nan_count = diabetes_data.isnull().sum().sum()\n",
    "print('Number of NaN values:', nan_count)"
   ]
  },
  {
   "cell_type": "code",
   "execution_count": null,
   "id": "45ef1235-5f21-43f2-8cac-3bd33df01392",
   "metadata": {},
   "outputs": [],
   "source": [
    "diabetes_data.head()"
   ]
  },
  {
   "cell_type": "markdown",
   "id": "b6eccdba-9ffc-4e1f-bc4c-2b289814b306",
   "metadata": {},
   "source": [
    "now as we see all of the 0 values has changed to NaN **In this case we will change the NaN values with the\n",
    "MEDIAN of entire coulmn.**"
   ]
  },
  {
   "cell_type": "code",
   "execution_count": null,
   "id": "ea6ceeaa-7192-41fa-b124-0408ba530080",
   "metadata": {},
   "outputs": [],
   "source": [
    "diabetes_data.median()"
   ]
  },
  {
   "cell_type": "markdown",
   "id": "87d59c9f-cf9b-4b85-bf4d-7d18db71df5a",
   "metadata": {},
   "source": [
    "\n",
    "**ANALYSIS:** <br>\n",
    "As we observe in the healthcare data, there are numerous outliers present. These outliers can significantly impact the calculation of the average, making it less representative of the central tendency of the data. Therefore, a prudent approach to cleaning this data is to utilize the median, which remains robust in the presence of outliers. By employing the median, we can attain more accurate results, as it is not influenced by extreme values, ensuring a more reliable assessment of the data's characteristics."
   ]
  },
  {
   "cell_type": "code",
   "execution_count": null,
   "id": "c08730b1-8cc9-47a3-8e26-c4f1590dcfeb",
   "metadata": {},
   "outputs": [],
   "source": [
    "diabetes_data.fillna(diabetes_data.median(), inplace=True)\n",
    "diabetes_data.head()"
   ]
  },
  {
   "cell_type": "markdown",
   "id": "c4977e1d-5393-4f68-b9e2-111d83e9d01f",
   "metadata": {},
   "source": [
    "# Standardization"
   ]
  },
  {
   "cell_type": "code",
   "execution_count": null,
   "id": "46f5ee1b-9357-4d33-b66e-0964d289672c",
   "metadata": {},
   "outputs": [],
   "source": [
    "scaler = StandardScaler()\n",
    "scaler.fit(diabetes_data.drop('Outcome',axis=1))\n",
    "scaled_features = scaler.transform(diabetes_data.drop('Outcome',axis=1))\n",
    "df_feat = pd.DataFrame(scaled_features,columns=diabetes_data.columns[:-1])\n",
    "df_feat.head()"
   ]
  },
  {
   "cell_type": "markdown",
   "id": "6f82fe12-cfdd-4460-9530-bc9c61ff6afe",
   "metadata": {},
   "source": [
    "# Train-Test Model"
   ]
  },
  {
   "cell_type": "code",
   "execution_count": null,
   "id": "1ad2cc27-06ac-4325-9d28-35176488f82a",
   "metadata": {},
   "outputs": [],
   "source": [
    "X_train, X_test, y_train, y_test = train_test_split(scaled_features,diabetes_data['Outcome'],\n",
    "                                                    test_size=0.30,random_state=101)\n"
   ]
  },
  {
   "cell_type": "code",
   "execution_count": null,
   "id": "2b24efd9-cd9b-42a1-9795-1dff219a84bb",
   "metadata": {},
   "outputs": [],
   "source": [
    "\n",
    "def plot_decision_boundary(X, y, model, title):\n",
    "    h = .02 \n",
    "    x_min, x_max = X[:, 0].min() - 1, X[:, 0].max() + 1\n",
    "    y_min, y_max = X[:, 1].min() - 1, X[:, 1].max() + 1\n",
    "    xx, yy = np.meshgrid(np.arange(x_min, x_max, h),\n",
    "                         np.arange(y_min, y_max, h))\n",
    "    Z = model.predict(np.c_[xx.ravel(), yy.ravel()])\n",
    "\n",
    "   \n",
    "    Z = Z.reshape(xx.shape)\n",
    "    plt.contourf(xx, yy, Z, cmap=plt.cm.coolwarm, alpha=0.8)\n",
    "\n",
    "    \n",
    "    sns.scatterplot(x=X[:, 0], y=X[:, 1], hue=y, palette='coolwarm')\n",
    "\n",
    "    plt.title(title)\n",
    "    plt.xlabel('Feature 1')\n",
    "    plt.ylabel('Feature 2')\n",
    "    plt.legend()\n",
    "    plt.show()\n"
   ]
  },
  {
   "cell_type": "code",
   "execution_count": null,
   "id": "60f1ace3-c858-4193-9f93-73f1ea68ee32",
   "metadata": {},
   "outputs": [],
   "source": [
    "\n",
    "k = int(input())\n",
    "\n",
    "knn = KNeighborsClassifier(n_neighbors=k)\n",
    "knn.fit(X_train, y_train)\n",
    "\n",
    "test_predictions = knn.predict(X_test)\n",
    "\n",
    "test_accuracy = accuracy_score(y_test, test_predictions)\n",
    "print(\"Testing Accuracy:\", test_accuracy)"
   ]
  },
  {
   "cell_type": "code",
   "execution_count": null,
   "id": "a47cef6d-d216-49c3-a708-df791c8e57c4",
   "metadata": {},
   "outputs": [],
   "source": [
    "# Select two features for visualization\n",
    "feature1 = 'Glucose'\n",
    "feature2 = 'BMI'\n",
    "\n",
    "# Extract the selected features\n",
    "X_selected_features = diabetes_data[[feature1, feature2]].values\n",
    "\n",
    "# Train-test split on selected features\n",
    "X_train_selected, X_test_selected, y_train_selected, y_test_selected = train_test_split(X_selected_features, diabetes_data['Outcome'],\n",
    "                                                                                        test_size=0.30, random_state=101)\n",
    "\n",
    "# Fit KNN on selected features\n",
    "knn_selected = KNeighborsClassifier(n_neighbors=k)\n",
    "knn_selected.fit(X_train_selected, y_train_selected)\n",
    "\n",
    "# Plot decision boundary\n",
    "x_min, x_max = X_selected_features[:, 0].min() - 1, X_selected_features[:, 0].max() + 1\n",
    "y_min, y_max = X_selected_features[:, 1].min() - 1, X_selected_features[:, 1].max() + 1\n",
    "xx, yy = np.meshgrid(np.arange(x_min, x_max, 0.1),\n",
    "                     np.arange(y_min, y_max, 0.1))\n",
    "Z = knn_selected.predict(np.c_[xx.ravel(), yy.ravel()])\n",
    "Z = Z.reshape(xx.shape)\n",
    "\n",
    "plt.contourf(xx, yy, Z, alpha=0.4)\n",
    "plt.scatter(X_selected_features[:, 0], X_selected_features[:, 1], c=diabetes_data['Outcome'], s=20, edgecolor='k')\n",
    "plt.xlabel(feature1)\n",
    "plt.ylabel(feature2)\n",
    "plt.title('Decision Boundary with (k=%d) neigbours - Test Accuracy: %.2f' % (k, test_accuracy))\n",
    "plt.show()\n"
   ]
  },
  {
   "cell_type": "code",
   "execution_count": null,
   "id": "a5194e94-49ce-43a6-8e23-5c1f5339d775",
   "metadata": {},
   "outputs": [],
   "source": []
  }
 ],
 "metadata": {
  "kernelspec": {
   "display_name": "Python 3 (ipykernel)",
   "language": "python",
   "name": "python3"
  },
  "language_info": {
   "codemirror_mode": {
    "name": "ipython",
    "version": 3
   },
   "file_extension": ".py",
   "mimetype": "text/x-python",
   "name": "python",
   "nbconvert_exporter": "python",
   "pygments_lexer": "ipython3",
   "version": "3.11.7"
  }
 },
 "nbformat": 4,
 "nbformat_minor": 5
}
